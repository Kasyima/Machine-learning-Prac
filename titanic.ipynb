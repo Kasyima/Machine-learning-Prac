{
 "cells": [
  {
   "cell_type": "code",
   "execution_count": 2,
   "metadata": {},
   "outputs": [],
   "source": [
    "import pandas as pd\n",
    "import numpy as np\n",
    "import matplotlib.pyplot as plt"
   ]
  },
  {
   "cell_type": "code",
   "execution_count": null,
   "metadata": {},
   "outputs": [],
   "source": [
    "x_test = pd.read_csv('titanic/test.csv')\n",
    "x_train  = pd.read_csv('titanic/train.csv')\n",
    "x_test_copy = pd.read_csv('titanic/test copy.csv')\n",
    "x_test.head(5)\n",
    "# x_train.sample(5)\n",
    "x_test.describe()\n",
    "x_train.sample(5)\n",
    "# x_train.info()"
   ]
  },
  {
   "cell_type": "code",
   "execution_count": 5,
   "metadata": {},
   "outputs": [
    {
     "name": "stdout",
     "output_type": "stream",
     "text": [
      "<class 'pandas.core.frame.DataFrame'>\n",
      "RangeIndex: 891 entries, 0 to 890\n",
      "Data columns (total 8 columns):\n",
      " #   Column    Non-Null Count  Dtype  \n",
      "---  ------    --------------  -----  \n",
      " 0   Survived  891 non-null    int64  \n",
      " 1   Pclass    891 non-null    int64  \n",
      " 2   Sex       891 non-null    object \n",
      " 3   Age       714 non-null    float64\n",
      " 4   SibSp     891 non-null    int64  \n",
      " 5   Parch     891 non-null    int64  \n",
      " 6   Fare      891 non-null    float64\n",
      " 7   Embarked  889 non-null    object \n",
      "dtypes: float64(2), int64(4), object(2)\n",
      "memory usage: 55.8+ KB\n"
     ]
    },
    {
     "name": "stderr",
     "output_type": "stream",
     "text": [
      "/tmp/ipykernel_1886/1863921231.py:1: FutureWarning: In a future version of pandas all arguments of DataFrame.drop except for the argument 'labels' will be keyword-only.\n",
      "  x_train.drop(['PassengerId', 'Ticket', 'Cabin','Name'],'columns' ,inplace=True)\n"
     ]
    }
   ],
   "source": [
    "x_train.drop(['PassengerId', 'Ticket', 'Cabin','Name'],'columns' ,inplace=True)\n",
    "x_train.info()\n"
   ]
  },
  {
   "cell_type": "code",
   "execution_count": 6,
   "metadata": {},
   "outputs": [
    {
     "data": {
      "text/plain": [
       "Survived    179\n",
       "Pclass      179\n",
       "Sex         179\n",
       "Age           2\n",
       "SibSp       179\n",
       "Parch       179\n",
       "Fare        179\n",
       "Embarked    177\n",
       "dtype: int64"
      ]
     },
     "execution_count": 6,
     "metadata": {},
     "output_type": "execute_result"
    }
   ],
   "source": [
    "x_train[x_train.isnull().any(axis=1)].count()"
   ]
  },
  {
   "cell_type": "code",
   "execution_count": 7,
   "metadata": {},
   "outputs": [],
   "source": [
    "x_train= x_train.dropna()"
   ]
  },
  {
   "cell_type": "code",
   "execution_count": 8,
   "metadata": {},
   "outputs": [
    {
     "data": {
      "text/html": [
       "<div>\n",
       "<style scoped>\n",
       "    .dataframe tbody tr th:only-of-type {\n",
       "        vertical-align: middle;\n",
       "    }\n",
       "\n",
       "    .dataframe tbody tr th {\n",
       "        vertical-align: top;\n",
       "    }\n",
       "\n",
       "    .dataframe thead th {\n",
       "        text-align: right;\n",
       "    }\n",
       "</style>\n",
       "<table border=\"1\" class=\"dataframe\">\n",
       "  <thead>\n",
       "    <tr style=\"text-align: right;\">\n",
       "      <th>Survived</th>\n",
       "      <th>0</th>\n",
       "      <th>1</th>\n",
       "    </tr>\n",
       "    <tr>\n",
       "      <th>Sex</th>\n",
       "      <th></th>\n",
       "      <th></th>\n",
       "    </tr>\n",
       "  </thead>\n",
       "  <tbody>\n",
       "    <tr>\n",
       "      <th>female</th>\n",
       "      <td>64</td>\n",
       "      <td>195</td>\n",
       "    </tr>\n",
       "    <tr>\n",
       "      <th>male</th>\n",
       "      <td>360</td>\n",
       "      <td>93</td>\n",
       "    </tr>\n",
       "  </tbody>\n",
       "</table>\n",
       "</div>"
      ],
      "text/plain": [
       "Survived    0    1\n",
       "Sex               \n",
       "female     64  195\n",
       "male      360   93"
      ]
     },
     "execution_count": 8,
     "metadata": {},
     "output_type": "execute_result"
    }
   ],
   "source": [
    "pd.crosstab(x_train['Sex'], x_train['Survived'])"
   ]
  },
  {
   "cell_type": "code",
   "execution_count": 9,
   "metadata": {},
   "outputs": [
    {
     "data": {
      "text/html": [
       "<div>\n",
       "<style scoped>\n",
       "    .dataframe tbody tr th:only-of-type {\n",
       "        vertical-align: middle;\n",
       "    }\n",
       "\n",
       "    .dataframe tbody tr th {\n",
       "        vertical-align: top;\n",
       "    }\n",
       "\n",
       "    .dataframe thead th {\n",
       "        text-align: right;\n",
       "    }\n",
       "</style>\n",
       "<table border=\"1\" class=\"dataframe\">\n",
       "  <thead>\n",
       "    <tr style=\"text-align: right;\">\n",
       "      <th>Survived</th>\n",
       "      <th>0</th>\n",
       "      <th>1</th>\n",
       "    </tr>\n",
       "    <tr>\n",
       "      <th>Pclass</th>\n",
       "      <th></th>\n",
       "      <th></th>\n",
       "    </tr>\n",
       "  </thead>\n",
       "  <tbody>\n",
       "    <tr>\n",
       "      <th>1</th>\n",
       "      <td>64</td>\n",
       "      <td>120</td>\n",
       "    </tr>\n",
       "    <tr>\n",
       "      <th>2</th>\n",
       "      <td>90</td>\n",
       "      <td>83</td>\n",
       "    </tr>\n",
       "    <tr>\n",
       "      <th>3</th>\n",
       "      <td>270</td>\n",
       "      <td>85</td>\n",
       "    </tr>\n",
       "  </tbody>\n",
       "</table>\n",
       "</div>"
      ],
      "text/plain": [
       "Survived    0    1\n",
       "Pclass            \n",
       "1          64  120\n",
       "2          90   83\n",
       "3         270   85"
      ]
     },
     "execution_count": 9,
     "metadata": {},
     "output_type": "execute_result"
    }
   ],
   "source": [
    "pd.crosstab(x_train['Pclass'], x_train['Survived'])"
   ]
  },
  {
   "cell_type": "code",
   "execution_count": null,
   "metadata": {},
   "outputs": [],
   "source": [
    "# pd.crosstab(x_train['Age'], x_train['Survived'])"
   ]
  },
  {
   "cell_type": "code",
   "execution_count": 10,
   "metadata": {},
   "outputs": [
    {
     "data": {
      "text/html": [
       "<div>\n",
       "<style scoped>\n",
       "    .dataframe tbody tr th:only-of-type {\n",
       "        vertical-align: middle;\n",
       "    }\n",
       "\n",
       "    .dataframe tbody tr th {\n",
       "        vertical-align: top;\n",
       "    }\n",
       "\n",
       "    .dataframe thead th {\n",
       "        text-align: right;\n",
       "    }\n",
       "</style>\n",
       "<table border=\"1\" class=\"dataframe\">\n",
       "  <thead>\n",
       "    <tr style=\"text-align: right;\">\n",
       "      <th></th>\n",
       "      <th>Survived</th>\n",
       "      <th>Pclass</th>\n",
       "      <th>Age</th>\n",
       "      <th>SibSp</th>\n",
       "      <th>Parch</th>\n",
       "      <th>Fare</th>\n",
       "    </tr>\n",
       "  </thead>\n",
       "  <tbody>\n",
       "    <tr>\n",
       "      <th>Survived</th>\n",
       "      <td>1.000000</td>\n",
       "      <td>-0.356462</td>\n",
       "      <td>-0.082446</td>\n",
       "      <td>-0.015523</td>\n",
       "      <td>0.095265</td>\n",
       "      <td>0.266100</td>\n",
       "    </tr>\n",
       "    <tr>\n",
       "      <th>Pclass</th>\n",
       "      <td>-0.356462</td>\n",
       "      <td>1.000000</td>\n",
       "      <td>-0.365902</td>\n",
       "      <td>0.065187</td>\n",
       "      <td>0.023666</td>\n",
       "      <td>-0.552893</td>\n",
       "    </tr>\n",
       "    <tr>\n",
       "      <th>Age</th>\n",
       "      <td>-0.082446</td>\n",
       "      <td>-0.365902</td>\n",
       "      <td>1.000000</td>\n",
       "      <td>-0.307351</td>\n",
       "      <td>-0.187897</td>\n",
       "      <td>0.093142</td>\n",
       "    </tr>\n",
       "    <tr>\n",
       "      <th>SibSp</th>\n",
       "      <td>-0.015523</td>\n",
       "      <td>0.065187</td>\n",
       "      <td>-0.307351</td>\n",
       "      <td>1.000000</td>\n",
       "      <td>0.383338</td>\n",
       "      <td>0.139860</td>\n",
       "    </tr>\n",
       "    <tr>\n",
       "      <th>Parch</th>\n",
       "      <td>0.095265</td>\n",
       "      <td>0.023666</td>\n",
       "      <td>-0.187897</td>\n",
       "      <td>0.383338</td>\n",
       "      <td>1.000000</td>\n",
       "      <td>0.206624</td>\n",
       "    </tr>\n",
       "    <tr>\n",
       "      <th>Fare</th>\n",
       "      <td>0.266100</td>\n",
       "      <td>-0.552893</td>\n",
       "      <td>0.093142</td>\n",
       "      <td>0.139860</td>\n",
       "      <td>0.206624</td>\n",
       "      <td>1.000000</td>\n",
       "    </tr>\n",
       "  </tbody>\n",
       "</table>\n",
       "</div>"
      ],
      "text/plain": [
       "          Survived    Pclass       Age     SibSp     Parch      Fare\n",
       "Survived  1.000000 -0.356462 -0.082446 -0.015523  0.095265  0.266100\n",
       "Pclass   -0.356462  1.000000 -0.365902  0.065187  0.023666 -0.552893\n",
       "Age      -0.082446 -0.365902  1.000000 -0.307351 -0.187897  0.093142\n",
       "SibSp    -0.015523  0.065187 -0.307351  1.000000  0.383338  0.139860\n",
       "Parch     0.095265  0.023666 -0.187897  0.383338  1.000000  0.206624\n",
       "Fare      0.266100 -0.552893  0.093142  0.139860  0.206624  1.000000"
      ]
     },
     "execution_count": 10,
     "metadata": {},
     "output_type": "execute_result"
    }
   ],
   "source": [
    "x_train_corr = x_train.corr()\n",
    "x_train_corr"
   ]
  },
  {
   "cell_type": "markdown",
   "metadata": {},
   "source": [
    "* To look at correlation data draw a heatmap"
   ]
  },
  {
   "cell_type": "code",
   "execution_count": 11,
   "metadata": {},
   "outputs": [
    {
     "data": {
      "text/plain": [
       "<AxesSubplot:>"
      ]
     },
     "execution_count": 11,
     "metadata": {},
     "output_type": "execute_result"
    },
    {
     "data": {
      "image/png": "[encoded data removed]",
      "text/plain": [
       "<Figure size 1200x1000 with 2 Axes>"
      ]
     },
     "metadata": {},
     "output_type": "display_data"
    }
   ],
   "source": [
    "import seaborn as sns\n",
    "fig, ax = plt.subplots(figsize=(12,10))\n",
    "sns.heatmap(x_train_corr, annot=True)"
   ]
  },
  {
   "cell_type": "code",
   "execution_count": 12,
   "metadata": {},
   "outputs": [
    {
     "data": {
      "text/plain": [
       "array(['female', 'male'], dtype=object)"
      ]
     },
     "execution_count": 12,
     "metadata": {},
     "output_type": "execute_result"
    }
   ],
   "source": [
    "from sklearn import preprocessing\n",
    "label_encoding = preprocessing.LabelEncoder()\n",
    "x_train['Sex'] = label_encoding.fit_transform(x_train['Sex'].astype(str))\n",
    "label_encoding.classes_"
   ]
  },
  {
   "cell_type": "code",
   "execution_count": 13,
   "metadata": {},
   "outputs": [],
   "source": [
    "x_train = pd.get_dummies(x_train, columns=['Embarked'])"
   ]
  },
  {
   "cell_type": "code",
   "execution_count": null,
   "metadata": {},
   "outputs": [],
   "source": [
    "x_train.drop(columns='Embark', axis=1, inplace=True)"
   ]
  },
  {
   "cell_type": "code",
   "execution_count": 15,
   "metadata": {},
   "outputs": [
    {
     "data": {
      "text/html": [
       "<div>\n",
       "<style scoped>\n",
       "    .dataframe tbody tr th:only-of-type {\n",
       "        vertical-align: middle;\n",
       "    }\n",
       "\n",
       "    .dataframe tbody tr th {\n",
       "        vertical-align: top;\n",
       "    }\n",
       "\n",
       "    .dataframe thead th {\n",
       "        text-align: right;\n",
       "    }\n",
       "</style>\n",
       "<table border=\"1\" class=\"dataframe\">\n",
       "  <thead>\n",
       "    <tr style=\"text-align: right;\">\n",
       "      <th></th>\n",
       "      <th>Survived</th>\n",
       "      <th>Pclass</th>\n",
       "      <th>Sex</th>\n",
       "      <th>Age</th>\n",
       "      <th>SibSp</th>\n",
       "      <th>Parch</th>\n",
       "      <th>Fare</th>\n",
       "      <th>Embarked_C</th>\n",
       "      <th>Embarked_Q</th>\n",
       "      <th>Embarked_S</th>\n",
       "    </tr>\n",
       "  </thead>\n",
       "  <tbody>\n",
       "    <tr>\n",
       "      <th>0</th>\n",
       "      <td>0</td>\n",
       "      <td>3</td>\n",
       "      <td>1</td>\n",
       "      <td>22.0</td>\n",
       "      <td>1</td>\n",
       "      <td>0</td>\n",
       "      <td>7.2500</td>\n",
       "      <td>0</td>\n",
       "      <td>0</td>\n",
       "      <td>1</td>\n",
       "    </tr>\n",
       "    <tr>\n",
       "      <th>1</th>\n",
       "      <td>1</td>\n",
       "      <td>1</td>\n",
       "      <td>0</td>\n",
       "      <td>38.0</td>\n",
       "      <td>1</td>\n",
       "      <td>0</td>\n",
       "      <td>71.2833</td>\n",
       "      <td>1</td>\n",
       "      <td>0</td>\n",
       "      <td>0</td>\n",
       "    </tr>\n",
       "    <tr>\n",
       "      <th>2</th>\n",
       "      <td>1</td>\n",
       "      <td>3</td>\n",
       "      <td>0</td>\n",
       "      <td>26.0</td>\n",
       "      <td>0</td>\n",
       "      <td>0</td>\n",
       "      <td>7.9250</td>\n",
       "      <td>0</td>\n",
       "      <td>0</td>\n",
       "      <td>1</td>\n",
       "    </tr>\n",
       "    <tr>\n",
       "      <th>3</th>\n",
       "      <td>1</td>\n",
       "      <td>1</td>\n",
       "      <td>0</td>\n",
       "      <td>35.0</td>\n",
       "      <td>1</td>\n",
       "      <td>0</td>\n",
       "      <td>53.1000</td>\n",
       "      <td>0</td>\n",
       "      <td>0</td>\n",
       "      <td>1</td>\n",
       "    </tr>\n",
       "    <tr>\n",
       "      <th>4</th>\n",
       "      <td>0</td>\n",
       "      <td>3</td>\n",
       "      <td>1</td>\n",
       "      <td>35.0</td>\n",
       "      <td>0</td>\n",
       "      <td>0</td>\n",
       "      <td>8.0500</td>\n",
       "      <td>0</td>\n",
       "      <td>0</td>\n",
       "      <td>1</td>\n",
       "    </tr>\n",
       "  </tbody>\n",
       "</table>\n",
       "</div>"
      ],
      "text/plain": [
       "   Survived  Pclass  Sex   Age  SibSp  Parch     Fare  Embarked_C  Embarked_Q  \\\n",
       "0         0       3    1  22.0      1      0   7.2500           0           0   \n",
       "1         1       1    0  38.0      1      0  71.2833           1           0   \n",
       "2         1       3    0  26.0      0      0   7.9250           0           0   \n",
       "3         1       1    0  35.0      1      0  53.1000           0           0   \n",
       "4         0       3    1  35.0      0      0   8.0500           0           0   \n",
       "\n",
       "   Embarked_S  \n",
       "0           1  \n",
       "1           0  \n",
       "2           1  \n",
       "3           1  \n",
       "4           1  "
      ]
     },
     "execution_count": 15,
     "metadata": {},
     "output_type": "execute_result"
    }
   ],
   "source": [
    "x_train.head(5)"
   ]
  },
  {
   "cell_type": "code",
   "execution_count": 16,
   "metadata": {},
   "outputs": [
    {
     "data": {
      "text/html": [
       "<div>\n",
       "<style scoped>\n",
       "    .dataframe tbody tr th:only-of-type {\n",
       "        vertical-align: middle;\n",
       "    }\n",
       "\n",
       "    .dataframe tbody tr th {\n",
       "        vertical-align: top;\n",
       "    }\n",
       "\n",
       "    .dataframe thead th {\n",
       "        text-align: right;\n",
       "    }\n",
       "</style>\n",
       "<table border=\"1\" class=\"dataframe\">\n",
       "  <thead>\n",
       "    <tr style=\"text-align: right;\">\n",
       "      <th></th>\n",
       "      <th>Survived</th>\n",
       "      <th>Pclass</th>\n",
       "      <th>Sex</th>\n",
       "      <th>Age</th>\n",
       "      <th>SibSp</th>\n",
       "      <th>Parch</th>\n",
       "      <th>Fare</th>\n",
       "      <th>Embarked_C</th>\n",
       "      <th>Embarked_Q</th>\n",
       "      <th>Embarked_S</th>\n",
       "    </tr>\n",
       "  </thead>\n",
       "  <tbody>\n",
       "    <tr>\n",
       "      <th>0</th>\n",
       "      <td>0</td>\n",
       "      <td>3</td>\n",
       "      <td>1</td>\n",
       "      <td>15.0</td>\n",
       "      <td>1</td>\n",
       "      <td>1</td>\n",
       "      <td>7.2292</td>\n",
       "      <td>1</td>\n",
       "      <td>0</td>\n",
       "      <td>0</td>\n",
       "    </tr>\n",
       "    <tr>\n",
       "      <th>1</th>\n",
       "      <td>1</td>\n",
       "      <td>3</td>\n",
       "      <td>0</td>\n",
       "      <td>29.0</td>\n",
       "      <td>0</td>\n",
       "      <td>2</td>\n",
       "      <td>15.2458</td>\n",
       "      <td>1</td>\n",
       "      <td>0</td>\n",
       "      <td>0</td>\n",
       "    </tr>\n",
       "    <tr>\n",
       "      <th>2</th>\n",
       "      <td>0</td>\n",
       "      <td>1</td>\n",
       "      <td>1</td>\n",
       "      <td>28.0</td>\n",
       "      <td>0</td>\n",
       "      <td>0</td>\n",
       "      <td>47.1000</td>\n",
       "      <td>0</td>\n",
       "      <td>0</td>\n",
       "      <td>1</td>\n",
       "    </tr>\n",
       "    <tr>\n",
       "      <th>3</th>\n",
       "      <td>0</td>\n",
       "      <td>3</td>\n",
       "      <td>0</td>\n",
       "      <td>2.0</td>\n",
       "      <td>0</td>\n",
       "      <td>1</td>\n",
       "      <td>10.4625</td>\n",
       "      <td>0</td>\n",
       "      <td>0</td>\n",
       "      <td>1</td>\n",
       "    </tr>\n",
       "    <tr>\n",
       "      <th>4</th>\n",
       "      <td>0</td>\n",
       "      <td>3</td>\n",
       "      <td>1</td>\n",
       "      <td>20.0</td>\n",
       "      <td>0</td>\n",
       "      <td>0</td>\n",
       "      <td>8.6625</td>\n",
       "      <td>0</td>\n",
       "      <td>0</td>\n",
       "      <td>1</td>\n",
       "    </tr>\n",
       "  </tbody>\n",
       "</table>\n",
       "</div>"
      ],
      "text/plain": [
       "   Survived  Pclass  Sex   Age  SibSp  Parch     Fare  Embarked_C  Embarked_Q  \\\n",
       "0         0       3    1  15.0      1      1   7.2292           1           0   \n",
       "1         1       3    0  29.0      0      2  15.2458           1           0   \n",
       "2         0       1    1  28.0      0      0  47.1000           0           0   \n",
       "3         0       3    0   2.0      0      1  10.4625           0           0   \n",
       "4         0       3    1  20.0      0      0   8.6625           0           0   \n",
       "\n",
       "   Embarked_S  \n",
       "0           0  \n",
       "1           0  \n",
       "2           1  \n",
       "3           1  \n",
       "4           1  "
      ]
     },
     "execution_count": 16,
     "metadata": {},
     "output_type": "execute_result"
    }
   ],
   "source": [
    "x_train = x_train.sample(frac=1).reset_index(drop=True)\n",
    "x_train.head()"
   ]
  },
  {
   "cell_type": "code",
   "execution_count": 17,
   "metadata": {},
   "outputs": [],
   "source": [
    "x_train.to_csv('titanic/titanic_processed.csv', index=False)"
   ]
  },
  {
   "cell_type": "code",
   "execution_count": 18,
   "metadata": {},
   "outputs": [
    {
     "name": "stdout",
     "output_type": "stream",
     "text": [
      "test.csv  titanic_processed.csv  train.csv\n"
     ]
    }
   ],
   "source": [
    "!ls titanic"
   ]
  },
  {
   "cell_type": "code",
   "execution_count": 19,
   "metadata": {},
   "outputs": [
    {
     "data": {
      "text/html": [
       "<div>\n",
       "<style scoped>\n",
       "    .dataframe tbody tr th:only-of-type {\n",
       "        vertical-align: middle;\n",
       "    }\n",
       "\n",
       "    .dataframe tbody tr th {\n",
       "        vertical-align: top;\n",
       "    }\n",
       "\n",
       "    .dataframe thead th {\n",
       "        text-align: right;\n",
       "    }\n",
       "</style>\n",
       "<table border=\"1\" class=\"dataframe\">\n",
       "  <thead>\n",
       "    <tr style=\"text-align: right;\">\n",
       "      <th></th>\n",
       "      <th>Survived</th>\n",
       "      <th>Pclass</th>\n",
       "      <th>Sex</th>\n",
       "      <th>Age</th>\n",
       "      <th>SibSp</th>\n",
       "      <th>Parch</th>\n",
       "      <th>Fare</th>\n",
       "      <th>Embarked_C</th>\n",
       "      <th>Embarked_Q</th>\n",
       "      <th>Embarked_S</th>\n",
       "    </tr>\n",
       "  </thead>\n",
       "  <tbody>\n",
       "    <tr>\n",
       "      <th>0</th>\n",
       "      <td>0</td>\n",
       "      <td>3</td>\n",
       "      <td>1</td>\n",
       "      <td>15.0</td>\n",
       "      <td>1</td>\n",
       "      <td>1</td>\n",
       "      <td>7.2292</td>\n",
       "      <td>1</td>\n",
       "      <td>0</td>\n",
       "      <td>0</td>\n",
       "    </tr>\n",
       "    <tr>\n",
       "      <th>1</th>\n",
       "      <td>1</td>\n",
       "      <td>3</td>\n",
       "      <td>0</td>\n",
       "      <td>29.0</td>\n",
       "      <td>0</td>\n",
       "      <td>2</td>\n",
       "      <td>15.2458</td>\n",
       "      <td>1</td>\n",
       "      <td>0</td>\n",
       "      <td>0</td>\n",
       "    </tr>\n",
       "    <tr>\n",
       "      <th>2</th>\n",
       "      <td>0</td>\n",
       "      <td>1</td>\n",
       "      <td>1</td>\n",
       "      <td>28.0</td>\n",
       "      <td>0</td>\n",
       "      <td>0</td>\n",
       "      <td>47.1000</td>\n",
       "      <td>0</td>\n",
       "      <td>0</td>\n",
       "      <td>1</td>\n",
       "    </tr>\n",
       "    <tr>\n",
       "      <th>3</th>\n",
       "      <td>0</td>\n",
       "      <td>3</td>\n",
       "      <td>0</td>\n",
       "      <td>2.0</td>\n",
       "      <td>0</td>\n",
       "      <td>1</td>\n",
       "      <td>10.4625</td>\n",
       "      <td>0</td>\n",
       "      <td>0</td>\n",
       "      <td>1</td>\n",
       "    </tr>\n",
       "    <tr>\n",
       "      <th>4</th>\n",
       "      <td>0</td>\n",
       "      <td>3</td>\n",
       "      <td>1</td>\n",
       "      <td>20.0</td>\n",
       "      <td>0</td>\n",
       "      <td>0</td>\n",
       "      <td>8.6625</td>\n",
       "      <td>0</td>\n",
       "      <td>0</td>\n",
       "      <td>1</td>\n",
       "    </tr>\n",
       "  </tbody>\n",
       "</table>\n",
       "</div>"
      ],
      "text/plain": [
       "   Survived  Pclass  Sex   Age  SibSp  Parch     Fare  Embarked_C  Embarked_Q  \\\n",
       "0         0       3    1  15.0      1      1   7.2292           1           0   \n",
       "1         1       3    0  29.0      0      2  15.2458           1           0   \n",
       "2         0       1    1  28.0      0      0  47.1000           0           0   \n",
       "3         0       3    0   2.0      0      1  10.4625           0           0   \n",
       "4         0       3    1  20.0      0      0   8.6625           0           0   \n",
       "\n",
       "   Embarked_S  \n",
       "0           0  \n",
       "1           0  \n",
       "2           1  \n",
       "3           1  \n",
       "4           1  "
      ]
     },
     "execution_count": 19,
     "metadata": {},
     "output_type": "execute_result"
    }
   ],
   "source": [
    "titanic_dt = pd.read_csv('titanic/titanic_processed.csv')\n",
    "titanic_dt.head()"
   ]
  },
  {
   "cell_type": "code",
   "execution_count": 20,
   "metadata": {},
   "outputs": [],
   "source": [
    "from sklearn.model_selection import train_test_split\n",
    "X = titanic_dt.drop('Survived',axis=1)\n",
    "Y = titanic_dt['Survived']\n",
    "\n",
    "x_train, x_test, y_train, y_test  = train_test_split(X, Y, test_size=0.2)"
   ]
  },
  {
   "cell_type": "code",
   "execution_count": 21,
   "metadata": {},
   "outputs": [],
   "source": [
    "from sklearn.linear_model import LogisticRegression\n",
    "logistic_model = LogisticRegression(penalty='l2',C=2.0, solver='liblinear').fit(x_train, y_train)\n"
   ]
  },
  {
   "cell_type": "code",
   "execution_count": 22,
   "metadata": {},
   "outputs": [],
   "source": [
    "y_pred = logistic_model.predict(x_test)"
   ]
  },
  {
   "cell_type": "code",
   "execution_count": 23,
   "metadata": {},
   "outputs": [],
   "source": [
    "pred_results = pd.DataFrame({'y_test':y_test, 'y_pred':y_pred})"
   ]
  },
  {
   "cell_type": "code",
   "execution_count": 24,
   "metadata": {},
   "outputs": [
    {
     "data": {
      "text/html": [
       "<div>\n",
       "<style scoped>\n",
       "    .dataframe tbody tr th:only-of-type {\n",
       "        vertical-align: middle;\n",
       "    }\n",
       "\n",
       "    .dataframe tbody tr th {\n",
       "        vertical-align: top;\n",
       "    }\n",
       "\n",
       "    .dataframe thead th {\n",
       "        text-align: right;\n",
       "    }\n",
       "</style>\n",
       "<table border=\"1\" class=\"dataframe\">\n",
       "  <thead>\n",
       "    <tr style=\"text-align: right;\">\n",
       "      <th></th>\n",
       "      <th>y_test</th>\n",
       "      <th>y_pred</th>\n",
       "    </tr>\n",
       "  </thead>\n",
       "  <tbody>\n",
       "    <tr>\n",
       "      <th>186</th>\n",
       "      <td>0</td>\n",
       "      <td>0</td>\n",
       "    </tr>\n",
       "    <tr>\n",
       "      <th>331</th>\n",
       "      <td>1</td>\n",
       "      <td>1</td>\n",
       "    </tr>\n",
       "    <tr>\n",
       "      <th>137</th>\n",
       "      <td>1</td>\n",
       "      <td>1</td>\n",
       "    </tr>\n",
       "    <tr>\n",
       "      <th>625</th>\n",
       "      <td>1</td>\n",
       "      <td>1</td>\n",
       "    </tr>\n",
       "    <tr>\n",
       "      <th>386</th>\n",
       "      <td>1</td>\n",
       "      <td>1</td>\n",
       "    </tr>\n",
       "  </tbody>\n",
       "</table>\n",
       "</div>"
      ],
      "text/plain": [
       "     y_test  y_pred\n",
       "186       0       0\n",
       "331       1       1\n",
       "137       1       1\n",
       "625       1       1\n",
       "386       1       1"
      ]
     },
     "execution_count": 24,
     "metadata": {},
     "output_type": "execute_result"
    }
   ],
   "source": [
    "pred_results.sample(5)"
   ]
  },
  {
   "cell_type": "code",
   "execution_count": 25,
   "metadata": {},
   "outputs": [],
   "source": [
    "titanic_crosstab = pd.crosstab(pred_results.y_pred, pred_results.y_test)"
   ]
  },
  {
   "cell_type": "code",
   "execution_count": 26,
   "metadata": {},
   "outputs": [
    {
     "data": {
      "text/html": [
       "<div>\n",
       "<style scoped>\n",
       "    .dataframe tbody tr th:only-of-type {\n",
       "        vertical-align: middle;\n",
       "    }\n",
       "\n",
       "    .dataframe tbody tr th {\n",
       "        vertical-align: top;\n",
       "    }\n",
       "\n",
       "    .dataframe thead th {\n",
       "        text-align: right;\n",
       "    }\n",
       "</style>\n",
       "<table border=\"1\" class=\"dataframe\">\n",
       "  <thead>\n",
       "    <tr style=\"text-align: right;\">\n",
       "      <th>y_test</th>\n",
       "      <th>0</th>\n",
       "      <th>1</th>\n",
       "    </tr>\n",
       "    <tr>\n",
       "      <th>y_pred</th>\n",
       "      <th></th>\n",
       "      <th></th>\n",
       "    </tr>\n",
       "  </thead>\n",
       "  <tbody>\n",
       "    <tr>\n",
       "      <th>0</th>\n",
       "      <td>65</td>\n",
       "      <td>21</td>\n",
       "    </tr>\n",
       "    <tr>\n",
       "      <th>1</th>\n",
       "      <td>7</td>\n",
       "      <td>50</td>\n",
       "    </tr>\n",
       "  </tbody>\n",
       "</table>\n",
       "</div>"
      ],
      "text/plain": [
       "y_test   0   1\n",
       "y_pred        \n",
       "0       65  21\n",
       "1        7  50"
      ]
     },
     "execution_count": 26,
     "metadata": {},
     "output_type": "execute_result"
    }
   ],
   "source": [
    "titanic_crosstab"
   ]
  },
  {
   "cell_type": "code",
   "execution_count": 27,
   "metadata": {},
   "outputs": [],
   "source": [
    "from sklearn.metrics import accuracy_score\n",
    "from sklearn.metrics import precision_score\n",
    "from sklearn.metrics import recall_score"
   ]
  },
  {
   "cell_type": "code",
   "execution_count": 28,
   "metadata": {},
   "outputs": [],
   "source": [
    "acc= accuracy_score(y_test, y_pred)\n",
    "prec = precision_score(y_test, y_pred)\n",
    "recall = recall_score(y_test, y_pred)"
   ]
  },
  {
   "cell_type": "code",
   "execution_count": 29,
   "metadata": {},
   "outputs": [
    {
     "name": "stdout",
     "output_type": "stream",
     "text": [
      "The Accuracy :: 0.8041958041958042\n",
      "Precision :: 0.8771929824561403\n",
      "The recall :: 0.704225352112676\n"
     ]
    }
   ],
   "source": [
    "print(f\"The Accuracy :: {acc}\")\n",
    "print(f\"Precision :: {prec}\")\n",
    "print(f\"The recall :: {recall}\")"
   ]
  },
  {
   "cell_type": "markdown",
   "metadata": {},
   "source": [
    "# `Multiple Classification Models`"
   ]
  },
  {
   "cell_type": "code",
   "execution_count": 90,
   "metadata": {},
   "outputs": [],
   "source": [
    "from sklearn.linear_model import LogisticRegression\n",
    "from sklearn.discriminant_analysis import LinearDiscriminantAnalysis\n",
    "from sklearn.discriminant_analysis import QuadraticDiscriminantAnalysis\n",
    "from sklearn.linear_model import SGDClassifier\n",
    "from sklearn.svm import LinearSVC\n",
    "from sklearn.neighbors import KNeighborsClassifier\n",
    "from sklearn.neighbors import RadiusNeighborsClassifier\n",
    "from sklearn.naive_bayes import GaussianNB\n",
    "from sklearn.tree import DecisionTreeClassifier"
   ]
  },
  {
   "cell_type": "code",
   "execution_count": 31,
   "metadata": {},
   "outputs": [],
   "source": [
    "titanic_df = pd.read_csv('titanic/titanic_processed.csv')"
   ]
  },
  {
   "cell_type": "code",
   "execution_count": 32,
   "metadata": {},
   "outputs": [
    {
     "data": {
      "text/plain": [
       "['Pclass',\n",
       " 'Sex',\n",
       " 'Age',\n",
       " 'SibSp',\n",
       " 'Parch',\n",
       " 'Fare',\n",
       " 'Embarked_C',\n",
       " 'Embarked_Q',\n",
       " 'Embarked_S']"
      ]
     },
     "execution_count": 32,
     "metadata": {},
     "output_type": "execute_result"
    }
   ],
   "source": [
    "FEATURES = list(titanic_df.columns[1:])\n",
    "FEATURES"
   ]
  },
  {
   "cell_type": "code",
   "execution_count": 33,
   "metadata": {},
   "outputs": [],
   "source": [
    "result_dict = {}\n"
   ]
  },
  {
   "cell_type": "code",
   "execution_count": 34,
   "metadata": {},
   "outputs": [],
   "source": [
    "def summarize_classification(y_test, y_pred):\n",
    "    acc = accuracy_score(y_test, y_pred, normalize=True)\n",
    "    num_acc = accuracy_score(y_test, y_pred, normalize=False)# number of accurately predicted scores\n",
    "    prec= precision_score(y_test, y_pred)\n",
    "    recall = precision_score(y_test, y_pred)\n",
    "\n",
    "    return {'accuracy':acc,\n",
    "            'precision':prec,\n",
    "            'recall':recall,\n",
    "            'accuracy_count':num_acc\n",
    "    }"
   ]
  },
  {
   "cell_type": "code",
   "execution_count": 38,
   "metadata": {},
   "outputs": [],
   "source": [
    "def build_model(classifier_fn, dataset, column_name, column_names, test_size=0.2,):\n",
    "    X = dataset[column_names]\n",
    "    Y = dataset[column_name]\n",
    "\n",
    "    x_train, x_test, y_train, y_test = train_test_split(X, Y, test_size = test_size)\n",
    "\n",
    "    model = classifier_fn(x_train, y_train)\n",
    "\n",
    "    y_pred = model.predict(x_test)\n",
    "\n",
    "    y_pred_train = model.predict(x_train)\n",
    "\n",
    "    test_summary = summarize_classification(y_test, y_pred)\n",
    "    train_summary = summarize_classification(y_train, y_pred_train)\n",
    "\n",
    "    pred_results = pd.DataFrame({'y_test':y_test,\n",
    "    'y_pred':y_pred})\n",
    "\n",
    "    model_crosstab = pd.crosstab(pred_results.y_pred, pred_results.y_test)\n",
    "\n",
    "    return {'training': train_summary,\n",
    "            'test': test_summary,\n",
    "            'confusion_matrix':model_crosstab\n",
    "    }\n",
    "\n",
    "\n",
    "    \n",
    "\n"
   ]
  },
  {
   "cell_type": "code",
   "execution_count": 39,
   "metadata": {},
   "outputs": [],
   "source": [
    "def compare_results():\n",
    "    for key in result_dict:\n",
    "        print(\"Classification: \", key)\n",
    "\n",
    "        print()\n",
    "        print(\"Training data\")\n",
    "        for score in result_dict[key]['training']:\n",
    "            print(score, result_dict[key]['training'][score])\n",
    "\n",
    "        print()\n",
    "        print('Test data')\n",
    "        for score in result_dict[key]['test']:\n",
    "            print(score, result_dict[key]['test'][score])\n",
    "\n",
    "        print()"
   ]
  },
  {
   "cell_type": "code",
   "execution_count": 40,
   "metadata": {},
   "outputs": [],
   "source": [
    "def logistic_fn(x_train,y_train):\n",
    "    model = LogisticRegression(solver='liblinear', C=2.0, penalty='l2' )\n",
    "    model.fit(x_train, y_train)\n",
    "    return model"
   ]
  },
  {
   "cell_type": "code",
   "execution_count": 41,
   "metadata": {},
   "outputs": [
    {
     "name": "stdout",
     "output_type": "stream",
     "text": [
      "Classification:  survived ~ logistic\n",
      "\n",
      "Training data\n",
      "accuracy 0.7961335676625659\n",
      "precision 0.7729468599033816\n",
      "recall 0.7729468599033816\n",
      "accuracy_count 453\n",
      "\n",
      "Test data\n",
      "accuracy 0.8111888111888111\n",
      "precision 0.7857142857142857\n",
      "recall 0.7857142857142857\n",
      "accuracy_count 116\n",
      "\n"
     ]
    }
   ],
   "source": [
    "result_dict['survived ~ logistic'] = build_model(logistic_fn, titanic_df, 'Survived', FEATURES, )\n",
    "compare_results()"
   ]
  },
  {
   "cell_type": "code",
   "execution_count": 45,
   "metadata": {},
   "outputs": [],
   "source": [
    "def linear_discriminant_fn(x_train, y_train, solver=\"svd\"):\n",
    "    \n",
    "    model = LinearDiscriminantAnalysis(solver=solver)\n",
    "    model.fit(x_train, y_train)\n",
    "\n",
    "    return model"
   ]
  },
  {
   "cell_type": "code",
   "execution_count": 50,
   "metadata": {},
   "outputs": [
    {
     "name": "stdout",
     "output_type": "stream",
     "text": [
      "Classification:  survived ~ logistic\n",
      "\n",
      "Training data\n",
      "accuracy 0.7961335676625659\n",
      "precision 0.7729468599033816\n",
      "recall 0.7729468599033816\n",
      "accuracy_count 453\n",
      "\n",
      "Test data\n",
      "accuracy 0.8111888111888111\n",
      "precision 0.7857142857142857\n",
      "recall 0.7857142857142857\n",
      "accuracy_count 116\n",
      "\n",
      "Classification:  survived ~ linear_discriminant_analysis\n",
      "\n",
      "Training data\n",
      "accuracy 0.7908611599297012\n",
      "precision 0.7562189054726368\n",
      "recall 0.7562189054726368\n",
      "accuracy_count 450\n",
      "\n",
      "Test data\n",
      "accuracy 0.8111888111888111\n",
      "precision 0.819672131147541\n",
      "recall 0.819672131147541\n",
      "accuracy_count 116\n",
      "\n"
     ]
    }
   ],
   "source": [
    "result_dict['survived ~ linear_discriminant_analysis'] = build_model(linear_discriminant_fn,titanic_df,\n",
    "\"Survived\", FEATURES[0:-1])\n",
    "\n",
    "compare_results()"
   ]
  },
  {
   "cell_type": "code",
   "execution_count": 52,
   "metadata": {},
   "outputs": [],
   "source": [
    "def quadratic_discriminant_fn(x_train, y_train):\n",
    "    model = QuadraticDiscriminantAnalysis()\n",
    "    model.fit(x_train, y_train)\n",
    "\n",
    "    return model"
   ]
  },
  {
   "cell_type": "code",
   "execution_count": 55,
   "metadata": {},
   "outputs": [
    {
     "name": "stdout",
     "output_type": "stream",
     "text": [
      "Classification:  survived ~ logistic\n",
      "\n",
      "Training data\n",
      "accuracy 0.7961335676625659\n",
      "precision 0.7729468599033816\n",
      "recall 0.7729468599033816\n",
      "accuracy_count 453\n",
      "\n",
      "Test data\n",
      "accuracy 0.8111888111888111\n",
      "precision 0.7857142857142857\n",
      "recall 0.7857142857142857\n",
      "accuracy_count 116\n",
      "\n",
      "Classification:  survived ~ linear_discriminant_analysis\n",
      "\n",
      "Training data\n",
      "accuracy 0.7908611599297012\n",
      "precision 0.7562189054726368\n",
      "recall 0.7562189054726368\n",
      "accuracy_count 450\n",
      "\n",
      "Test data\n",
      "accuracy 0.8111888111888111\n",
      "precision 0.819672131147541\n",
      "recall 0.819672131147541\n",
      "accuracy_count 116\n",
      "\n",
      "Classification:  survived ~ quadratic_discriminant_analysis\n",
      "\n",
      "Training data\n",
      "accuracy 0.8014059753954306\n",
      "precision 0.7596153846153846\n",
      "recall 0.7596153846153846\n",
      "accuracy_count 456\n",
      "\n",
      "Test data\n",
      "accuracy 0.8041958041958042\n",
      "precision 0.8421052631578947\n",
      "recall 0.8421052631578947\n",
      "accuracy_count 115\n",
      "\n"
     ]
    }
   ],
   "source": [
    "result_dict['survived ~ quadratic_discriminant_analysis'] = build_model(quadratic_discriminant_fn, titanic_df, 'Survived', FEATURES[0:-1])\n",
    "compare_results()"
   ]
  },
  {
   "cell_type": "code",
   "execution_count": 75,
   "metadata": {},
   "outputs": [],
   "source": [
    "def sgd_fn(x_train, y_train, max_iter = 100000, tol=1e-3):\n",
    "\n",
    "    model = SGDClassifier(max_iter=max_iter, tol=tol)\n",
    "    model.fit(x_train, y_train)\n",
    "\n",
    "    return model"
   ]
  },
  {
   "cell_type": "code",
   "execution_count": 76,
   "metadata": {},
   "outputs": [
    {
     "name": "stdout",
     "output_type": "stream",
     "text": [
      "Classification:  survived ~ logistic\n",
      "\n",
      "Training data\n",
      "accuracy 0.7961335676625659\n",
      "precision 0.7729468599033816\n",
      "recall 0.7729468599033816\n",
      "accuracy_count 453\n",
      "\n",
      "Test data\n",
      "accuracy 0.8111888111888111\n",
      "precision 0.7857142857142857\n",
      "recall 0.7857142857142857\n",
      "accuracy_count 116\n",
      "\n",
      "Classification:  survived ~ linear_discriminant_analysis\n",
      "\n",
      "Training data\n",
      "accuracy 0.7908611599297012\n",
      "precision 0.7562189054726368\n",
      "recall 0.7562189054726368\n",
      "accuracy_count 450\n",
      "\n",
      "Test data\n",
      "accuracy 0.8111888111888111\n",
      "precision 0.819672131147541\n",
      "recall 0.819672131147541\n",
      "accuracy_count 116\n",
      "\n",
      "Classification:  survived ~ quadratic_discriminant_analysis\n",
      "\n",
      "Training data\n",
      "accuracy 0.8014059753954306\n",
      "precision 0.7596153846153846\n",
      "recall 0.7596153846153846\n",
      "accuracy_count 456\n",
      "\n",
      "Test data\n",
      "accuracy 0.8041958041958042\n",
      "precision 0.8421052631578947\n",
      "recall 0.8421052631578947\n",
      "accuracy_count 115\n",
      "\n",
      "Classification:  survived ~ sgd\n",
      "\n",
      "Training data\n",
      "accuracy 0.7434094903339191\n",
      "precision 0.6861924686192469\n",
      "recall 0.6861924686192469\n",
      "accuracy_count 423\n",
      "\n",
      "Test data\n",
      "accuracy 0.7412587412587412\n",
      "precision 0.6481481481481481\n",
      "recall 0.6481481481481481\n",
      "accuracy_count 106\n",
      "\n"
     ]
    }
   ],
   "source": [
    "result_dict['survived ~ sgd'] = build_model(sgd_fn, titanic_df, 'Survived', FEATURES)\n",
    "compare_results()"
   ]
  },
  {
   "cell_type": "code",
   "execution_count": 86,
   "metadata": {},
   "outputs": [],
   "source": [
    "def linear_svc_fn(x_train, y_train, C=.3, max_iter = 70000, tol = 1e-3):\n",
    "\n",
    "    model = LinearSVC(C=C, tol=tol, max_iter=max_iter, dual=False)\n",
    "    model.fit(x_train, y_train)\n",
    "    return model"
   ]
  },
  {
   "cell_type": "code",
   "execution_count": 87,
   "metadata": {},
   "outputs": [
    {
     "name": "stdout",
     "output_type": "stream",
     "text": [
      "Classification:  survived ~ logistic\n",
      "\n",
      "Training data\n",
      "accuracy 0.7961335676625659\n",
      "precision 0.7729468599033816\n",
      "recall 0.7729468599033816\n",
      "accuracy_count 453\n",
      "\n",
      "Test data\n",
      "accuracy 0.8111888111888111\n",
      "precision 0.7857142857142857\n",
      "recall 0.7857142857142857\n",
      "accuracy_count 116\n",
      "\n",
      "Classification:  survived ~ linear_discriminant_analysis\n",
      "\n",
      "Training data\n",
      "accuracy 0.7908611599297012\n",
      "precision 0.7562189054726368\n",
      "recall 0.7562189054726368\n",
      "accuracy_count 450\n",
      "\n",
      "Test data\n",
      "accuracy 0.8111888111888111\n",
      "precision 0.819672131147541\n",
      "recall 0.819672131147541\n",
      "accuracy_count 116\n",
      "\n",
      "Classification:  survived ~ quadratic_discriminant_analysis\n",
      "\n",
      "Training data\n",
      "accuracy 0.8014059753954306\n",
      "precision 0.7596153846153846\n",
      "recall 0.7596153846153846\n",
      "accuracy_count 456\n",
      "\n",
      "Test data\n",
      "accuracy 0.8041958041958042\n",
      "precision 0.8421052631578947\n",
      "recall 0.8421052631578947\n",
      "accuracy_count 115\n",
      "\n",
      "Classification:  survived ~ sgd\n",
      "\n",
      "Training data\n",
      "accuracy 0.7434094903339191\n",
      "precision 0.6861924686192469\n",
      "recall 0.6861924686192469\n",
      "accuracy_count 423\n",
      "\n",
      "Test data\n",
      "accuracy 0.7412587412587412\n",
      "precision 0.6481481481481481\n",
      "recall 0.6481481481481481\n",
      "accuracy_count 106\n",
      "\n",
      "Classification:  Classification ~ svd\n",
      "\n",
      "Training data\n",
      "accuracy 0.8031634446397188\n",
      "precision 0.784688995215311\n",
      "recall 0.784688995215311\n",
      "accuracy_count 457\n",
      "\n",
      "Test data\n",
      "accuracy 0.7902097902097902\n",
      "precision 0.7647058823529411\n",
      "recall 0.7647058823529411\n",
      "accuracy_count 113\n",
      "\n"
     ]
    }
   ],
   "source": [
    "result_dict['Classification ~ svd'] = build_model(linear_svc_fn, titanic_df, 'Survived', FEATURES)\n",
    "compare_results()\n"
   ]
  },
  {
   "cell_type": "code",
   "execution_count": 99,
   "metadata": {},
   "outputs": [],
   "source": [
    "def radius_neighbor_fn(x_train, y_train, radius=40.0):\n",
    "    model = RadiusNeighborsClassifier(radius=radius)\n",
    "    model.fit(x_train, y_train)\n",
    "\n",
    "    return model"
   ]
  },
  {
   "cell_type": "code",
   "execution_count": 100,
   "metadata": {},
   "outputs": [
    {
     "name": "stdout",
     "output_type": "stream",
     "text": [
      "Classification:  survived ~ logistic\n",
      "\n",
      "Training data\n",
      "accuracy 0.7961335676625659\n",
      "precision 0.7729468599033816\n",
      "recall 0.7729468599033816\n",
      "accuracy_count 453\n",
      "\n",
      "Test data\n",
      "accuracy 0.8111888111888111\n",
      "precision 0.7857142857142857\n",
      "recall 0.7857142857142857\n",
      "accuracy_count 116\n",
      "\n",
      "Classification:  survived ~ linear_discriminant_analysis\n",
      "\n",
      "Training data\n",
      "accuracy 0.7908611599297012\n",
      "precision 0.7562189054726368\n",
      "recall 0.7562189054726368\n",
      "accuracy_count 450\n",
      "\n",
      "Test data\n",
      "accuracy 0.8111888111888111\n",
      "precision 0.819672131147541\n",
      "recall 0.819672131147541\n",
      "accuracy_count 116\n",
      "\n",
      "Classification:  survived ~ quadratic_discriminant_analysis\n",
      "\n",
      "Training data\n",
      "accuracy 0.8014059753954306\n",
      "precision 0.7596153846153846\n",
      "recall 0.7596153846153846\n",
      "accuracy_count 456\n",
      "\n",
      "Test data\n",
      "accuracy 0.8041958041958042\n",
      "precision 0.8421052631578947\n",
      "recall 0.8421052631578947\n",
      "accuracy_count 115\n",
      "\n",
      "Classification:  survived ~ sgd\n",
      "\n",
      "Training data\n",
      "accuracy 0.7434094903339191\n",
      "precision 0.6861924686192469\n",
      "recall 0.6861924686192469\n",
      "accuracy_count 423\n",
      "\n",
      "Test data\n",
      "accuracy 0.7412587412587412\n",
      "precision 0.6481481481481481\n",
      "recall 0.6481481481481481\n",
      "accuracy_count 106\n",
      "\n",
      "Classification:  Classification ~ svd\n",
      "\n",
      "Training data\n",
      "accuracy 0.8031634446397188\n",
      "precision 0.784688995215311\n",
      "recall 0.784688995215311\n",
      "accuracy_count 457\n",
      "\n",
      "Test data\n",
      "accuracy 0.7902097902097902\n",
      "precision 0.7647058823529411\n",
      "recall 0.7647058823529411\n",
      "accuracy_count 113\n",
      "\n",
      "Classification:  Classification ~ RadiusNeighborsClassifier\n",
      "\n",
      "Training data\n",
      "accuracy 0.655536028119508\n",
      "precision 0.7065217391304348\n",
      "recall 0.7065217391304348\n",
      "accuracy_count 373\n",
      "\n",
      "Test data\n",
      "accuracy 0.7272727272727273\n",
      "precision 0.8\n",
      "recall 0.8\n",
      "accuracy_count 104\n",
      "\n"
     ]
    }
   ],
   "source": [
    "result_dict['Classification ~ RadiusNeighborsClassifier'] = build_model(radius_neighbor_fn, titanic_df, 'Survived', FEATURES)\n",
    "compare_results()"
   ]
  },
  {
   "cell_type": "code",
   "execution_count": 103,
   "metadata": {},
   "outputs": [],
   "source": [
    "def decision_tree_fn(x_train, y_train, max_depth=None, max_features = None):\n",
    "    model = DecisionTreeClassifier(max_depth=max_depth,max_features=max_features)\n",
    "    model.fit(x_train, y_train)\n",
    "    return model"
   ]
  },
  {
   "cell_type": "code",
   "execution_count": 104,
   "metadata": {},
   "outputs": [
    {
     "name": "stdout",
     "output_type": "stream",
     "text": [
      "Classification:  survived ~ logistic\n",
      "\n",
      "Training data\n",
      "accuracy 0.7961335676625659\n",
      "precision 0.7729468599033816\n",
      "recall 0.7729468599033816\n",
      "accuracy_count 453\n",
      "\n",
      "Test data\n",
      "accuracy 0.8111888111888111\n",
      "precision 0.7857142857142857\n",
      "recall 0.7857142857142857\n",
      "accuracy_count 116\n",
      "\n",
      "Classification:  survived ~ linear_discriminant_analysis\n",
      "\n",
      "Training data\n",
      "accuracy 0.7908611599297012\n",
      "precision 0.7562189054726368\n",
      "recall 0.7562189054726368\n",
      "accuracy_count 450\n",
      "\n",
      "Test data\n",
      "accuracy 0.8111888111888111\n",
      "precision 0.819672131147541\n",
      "recall 0.819672131147541\n",
      "accuracy_count 116\n",
      "\n",
      "Classification:  survived ~ quadratic_discriminant_analysis\n",
      "\n",
      "Training data\n",
      "accuracy 0.8014059753954306\n",
      "precision 0.7596153846153846\n",
      "recall 0.7596153846153846\n",
      "accuracy_count 456\n",
      "\n",
      "Test data\n",
      "accuracy 0.8041958041958042\n",
      "precision 0.8421052631578947\n",
      "recall 0.8421052631578947\n",
      "accuracy_count 115\n",
      "\n",
      "Classification:  survived ~ sgd\n",
      "\n",
      "Training data\n",
      "accuracy 0.7434094903339191\n",
      "precision 0.6861924686192469\n",
      "recall 0.6861924686192469\n",
      "accuracy_count 423\n",
      "\n",
      "Test data\n",
      "accuracy 0.7412587412587412\n",
      "precision 0.6481481481481481\n",
      "recall 0.6481481481481481\n",
      "accuracy_count 106\n",
      "\n",
      "Classification:  Classification ~ svd\n",
      "\n",
      "Training data\n",
      "accuracy 0.8031634446397188\n",
      "precision 0.784688995215311\n",
      "recall 0.784688995215311\n",
      "accuracy_count 457\n",
      "\n",
      "Test data\n",
      "accuracy 0.7902097902097902\n",
      "precision 0.7647058823529411\n",
      "recall 0.7647058823529411\n",
      "accuracy_count 113\n",
      "\n",
      "Classification:  Classification ~ RadiusNeighborsClassifier\n",
      "\n",
      "Training data\n",
      "accuracy 0.655536028119508\n",
      "precision 0.7065217391304348\n",
      "recall 0.7065217391304348\n",
      "accuracy_count 373\n",
      "\n",
      "Test data\n",
      "accuracy 0.7272727272727273\n",
      "precision 0.8\n",
      "recall 0.8\n",
      "accuracy_count 104\n",
      "\n",
      "Classification:  Classification ~ decision_tree\n",
      "\n",
      "Training data\n",
      "accuracy 0.9876977152899824\n",
      "precision 1.0\n",
      "recall 1.0\n",
      "accuracy_count 562\n",
      "\n",
      "Test data\n",
      "accuracy 0.7902097902097902\n",
      "precision 0.6923076923076923\n",
      "recall 0.6923076923076923\n",
      "accuracy_count 113\n",
      "\n"
     ]
    }
   ],
   "source": [
    "result_dict['Classification ~ decision_tree'] = build_model(decision_tree_fn, titanic_df, 'Survived', FEATURES)\n",
    "compare_results()"
   ]
  },
  {
   "cell_type": "code",
   "execution_count": 105,
   "metadata": {},
   "outputs": [],
   "source": [
    "def naive_bayes_fn(x_train, y_train, priors=None):\n",
    "\n",
    "    model = GaussianNB(priors=priors)\n",
    "    model.fit(x_train, y_train)\n",
    "\n",
    "    return model"
   ]
  },
  {
   "cell_type": "code",
   "execution_count": 106,
   "metadata": {},
   "outputs": [
    {
     "name": "stdout",
     "output_type": "stream",
     "text": [
      "Classification:  survived ~ logistic\n",
      "\n",
      "Training data\n",
      "accuracy 0.7961335676625659\n",
      "precision 0.7729468599033816\n",
      "recall 0.7729468599033816\n",
      "accuracy_count 453\n",
      "\n",
      "Test data\n",
      "accuracy 0.8111888111888111\n",
      "precision 0.7857142857142857\n",
      "recall 0.7857142857142857\n",
      "accuracy_count 116\n",
      "\n",
      "Classification:  survived ~ linear_discriminant_analysis\n",
      "\n",
      "Training data\n",
      "accuracy 0.7908611599297012\n",
      "precision 0.7562189054726368\n",
      "recall 0.7562189054726368\n",
      "accuracy_count 450\n",
      "\n",
      "Test data\n",
      "accuracy 0.8111888111888111\n",
      "precision 0.819672131147541\n",
      "recall 0.819672131147541\n",
      "accuracy_count 116\n",
      "\n",
      "Classification:  survived ~ quadratic_discriminant_analysis\n",
      "\n",
      "Training data\n",
      "accuracy 0.8014059753954306\n",
      "precision 0.7596153846153846\n",
      "recall 0.7596153846153846\n",
      "accuracy_count 456\n",
      "\n",
      "Test data\n",
      "accuracy 0.8041958041958042\n",
      "precision 0.8421052631578947\n",
      "recall 0.8421052631578947\n",
      "accuracy_count 115\n",
      "\n",
      "Classification:  survived ~ sgd\n",
      "\n",
      "Training data\n",
      "accuracy 0.7434094903339191\n",
      "precision 0.6861924686192469\n",
      "recall 0.6861924686192469\n",
      "accuracy_count 423\n",
      "\n",
      "Test data\n",
      "accuracy 0.7412587412587412\n",
      "precision 0.6481481481481481\n",
      "recall 0.6481481481481481\n",
      "accuracy_count 106\n",
      "\n",
      "Classification:  Classification ~ svd\n",
      "\n",
      "Training data\n",
      "accuracy 0.8031634446397188\n",
      "precision 0.784688995215311\n",
      "recall 0.784688995215311\n",
      "accuracy_count 457\n",
      "\n",
      "Test data\n",
      "accuracy 0.7902097902097902\n",
      "precision 0.7647058823529411\n",
      "recall 0.7647058823529411\n",
      "accuracy_count 113\n",
      "\n",
      "Classification:  Classification ~ RadiusNeighborsClassifier\n",
      "\n",
      "Training data\n",
      "accuracy 0.655536028119508\n",
      "precision 0.7065217391304348\n",
      "recall 0.7065217391304348\n",
      "accuracy_count 373\n",
      "\n",
      "Test data\n",
      "accuracy 0.7272727272727273\n",
      "precision 0.8\n",
      "recall 0.8\n",
      "accuracy_count 104\n",
      "\n",
      "Classification:  Classification ~ decision_tree\n",
      "\n",
      "Training data\n",
      "accuracy 0.9876977152899824\n",
      "precision 1.0\n",
      "recall 1.0\n",
      "accuracy_count 562\n",
      "\n",
      "Test data\n",
      "accuracy 0.7902097902097902\n",
      "precision 0.6923076923076923\n",
      "recall 0.6923076923076923\n",
      "accuracy_count 113\n",
      "\n",
      "Classification:  Classification ~ naive_bayes\n",
      "\n",
      "Training data\n",
      "accuracy 0.7557117750439367\n",
      "precision 0.7142857142857143\n",
      "recall 0.7142857142857143\n",
      "accuracy_count 430\n",
      "\n",
      "Test data\n",
      "accuracy 0.7972027972027972\n",
      "precision 0.7894736842105263\n",
      "recall 0.7894736842105263\n",
      "accuracy_count 114\n",
      "\n"
     ]
    }
   ],
   "source": [
    "result_dict['Classification ~ naive_bayes'] = build_model(naive_bayes_fn, titanic_df, \"Survived\", FEATURES)\n",
    "compare_results()"
   ]
  }
 ],
 "metadata": {
  "kernelspec": {
   "display_name": "Python 3.9.13 ('base')",
   "language": "python",
   "name": "python3"
  },
  "language_info": {
   "codemirror_mode": {
    "name": "ipython",
    "version": 3
   },
   "file_extension": ".py",
   "mimetype": "text/x-python",
   "name": "python",
   "nbconvert_exporter": "python",
   "pygments_lexer": "ipython3",
   "version": "3.9.13"
  },
  "orig_nbformat": 4,
  "vscode": {
   "interpreter": {
    "hash": "29b767059ae20851d3b91414137dd566433b7ae2bc58322d2dc7605a0b0cf2f7"
   }
  }
 },
 "nbformat": 4,
 "nbformat_minor": 2
}
