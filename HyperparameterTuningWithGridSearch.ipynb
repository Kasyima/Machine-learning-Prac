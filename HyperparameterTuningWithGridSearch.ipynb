{
 "cells": [
  {
   "cell_type": "code",
   "execution_count": 1,
   "metadata": {},
   "outputs": [],
   "source": [
    "import pandas as pd\n",
    "import numpy as np\n",
    "\n",
    "from sklearn.model_selection import train_test_split\n",
    "from sklearn.metrics import accuracy_score\n",
    "from sklearn.metrics import precision_score\n",
    "from sklearn.metrics import recall_score\n",
    "\n",
    "from sklearn.linear_model import LogisticRegression\n",
    "from sklearn.tree import DecisionTreeClassifier"
   ]
  },
  {
   "cell_type": "code",
   "execution_count": 2,
   "metadata": {},
   "outputs": [],
   "source": [
    "titanic_df = pd.read_csv('titanic/titanic_processed.csv')"
   ]
  },
  {
   "cell_type": "code",
   "execution_count": 3,
   "metadata": {},
   "outputs": [],
   "source": [
    "X = titanic_df.drop('Survived', axis=1)\n",
    "Y = titanic_df[\"Survived\"]"
   ]
  },
  {
   "cell_type": "code",
   "execution_count": 7,
   "metadata": {},
   "outputs": [],
   "source": [
    "x_train, x_test, y_train, y_test = train_test_split(X, Y, test_size=0.2)"
   ]
  },
  {
   "cell_type": "code",
   "execution_count": 8,
   "metadata": {},
   "outputs": [],
   "source": [
    "def summarize_classification(y_test, y_pred):\n",
    "    acc = accuracy_score(y_test, y_pred, normalize=True)\n",
    "    acc_count = accuracy_score(y_test, y_pred, normalize=False)\n",
    "\n",
    "    prec = precision_score(y_test, y_pred)\n",
    "    recall = recall_score(y_test, y_pred)\n",
    "\n",
    "    print('Test data count: ', len(y_test))\n",
    "    print('accuracy count: ', acc_count)\n",
    "    print('accuracy score: ', acc)\n",
    "    print('precision score: ', prec)\n",
    "    print('recall score: ',recall)\n",
    "    print()\n"
   ]
  },
  {
   "cell_type": "code",
   "execution_count": 9,
   "metadata": {},
   "outputs": [
    {
     "data": {
      "text/plain": [
       "{'max_depth': 7}"
      ]
     },
     "execution_count": 9,
     "metadata": {},
     "output_type": "execute_result"
    }
   ],
   "source": [
    "from sklearn.model_selection import GridSearchCV\n",
    "\n",
    "parameters = {'max_depth':[2,4,5,7,9,10]}\n",
    "\n",
    "grid_search = GridSearchCV(DecisionTreeClassifier(), parameters, cv=3, return_train_score=True)\n",
    "grid_search.fit(x_train, y_train)\n",
    "\n",
    "grid_search.best_params_"
   ]
  },
  {
   "cell_type": "code",
   "execution_count": 11,
   "metadata": {},
   "outputs": [
    {
     "name": "stdout",
     "output_type": "stream",
     "text": [
      "parameters {'max_depth': 2}\n",
      "Mean Test Score 0.7890652557319223\n",
      "Rank 6\n",
      "parameters {'max_depth': 4}\n",
      "Mean Test Score 0.8242457996843963\n",
      "Rank 2\n",
      "parameters {'max_depth': 5}\n",
      "Mean Test Score 0.8207741576162628\n",
      "Rank 4\n",
      "parameters {'max_depth': 7}\n",
      "Mean Test Score 0.827791701475912\n",
      "Rank 1\n",
      "parameters {'max_depth': 9}\n",
      "Mean Test Score 0.822537826046598\n",
      "Rank 3\n",
      "parameters {'max_depth': 10}\n",
      "Mean Test Score 0.8190012067205049\n",
      "Rank 5\n"
     ]
    }
   ],
   "source": [
    "for i in range(6):\n",
    "    print(\"parameters\", grid_search.cv_results_['params'][i])\n",
    "    print(\"Mean Test Score\", grid_search.cv_results_['mean_test_score'][i])\n",
    "    print(\"Rank\", grid_search.cv_results_['rank_test_score'][i])"
   ]
  },
  {
   "cell_type": "code",
   "execution_count": 15,
   "metadata": {},
   "outputs": [],
   "source": [
    "decision_tree_model = DecisionTreeClassifier( \n",
    "    max_depth = grid_search.best_params_['max_depth']\n",
    ").fit(x_train, y_train)"
   ]
  },
  {
   "cell_type": "code",
   "execution_count": 16,
   "metadata": {},
   "outputs": [],
   "source": [
    "y_pred = decision_tree_model.predict(x_test)"
   ]
  },
  {
   "cell_type": "code",
   "execution_count": 18,
   "metadata": {},
   "outputs": [
    {
     "name": "stdout",
     "output_type": "stream",
     "text": [
      "Test data count:  143\n",
      "accuracy count:  103\n",
      "accuracy score:  0.7202797202797203\n",
      "precision score:  0.7454545454545455\n",
      "recall score:  0.6119402985074627\n",
      "\n"
     ]
    }
   ],
   "source": [
    "summarize_classification(y_test, y_pred)"
   ]
  },
  {
   "cell_type": "code",
   "execution_count": 21,
   "metadata": {},
   "outputs": [
    {
     "data": {
      "text/plain": [
       "{'C': 0.8, 'penalty': 'l1'}"
      ]
     },
     "execution_count": 21,
     "metadata": {},
     "output_type": "execute_result"
    }
   ],
   "source": [
    "parameters = {'penalty':['l1', 'l2'], 'C':[0.1,0.3,0.4,0.5,0.8,1,2,5]}\n",
    "\n",
    "grid_search = GridSearchCV(LogisticRegression(solver='liblinear'),parameters, cv=3, return_train_score= True)\n",
    "grid_search.fit(x_train, y_train)\n",
    "\n",
    "grid_search.best_params_"
   ]
  },
  {
   "cell_type": "code",
   "execution_count": 24,
   "metadata": {},
   "outputs": [
    {
     "name": "stdout",
     "output_type": "stream",
     "text": [
      "parameters {'C': 0.1, 'penalty': 'l1'}\n",
      "Mean Test Score 0.7591942820012996\n",
      "Rank 16\n",
      "parameters {'C': 0.1, 'penalty': 'l2'}\n",
      "Mean Test Score 0.7749930381509329\n",
      "Rank 15\n",
      "parameters {'C': 0.3, 'penalty': 'l1'}\n",
      "Mean Test Score 0.7962034716420682\n",
      "Rank 10\n",
      "parameters {'C': 0.3, 'penalty': 'l2'}\n",
      "Mean Test Score 0.7838670750951452\n",
      "Rank 14\n",
      "parameters {'C': 0.4, 'penalty': 'l1'}\n",
      "Mean Test Score 0.7997122435718927\n",
      "Rank 8\n",
      "parameters {'C': 0.4, 'penalty': 'l2'}\n",
      "Mean Test Score 0.7926761347813981\n",
      "Rank 12\n",
      "parameters {'C': 0.5, 'penalty': 'l1'}\n",
      "Mean Test Score 0.8014759120022279\n",
      "Rank 7\n",
      "parameters {'C': 0.5, 'penalty': 'l2'}\n",
      "Mean Test Score 0.7926668523159751\n",
      "Rank 13\n",
      "parameters {'C': 0.8, 'penalty': 'l1'}\n",
      "Mean Test Score 0.8137658962220365\n",
      "Rank 1\n",
      "parameters {'C': 0.8, 'penalty': 'l2'}\n",
      "Mean Test Score 0.7961756242457997\n",
      "Rank 11\n",
      "parameters {'C': 1, 'penalty': 'l1'}\n",
      "Mean Test Score 0.8120022277917015\n",
      "Rank 2\n",
      "parameters {'C': 1, 'penalty': 'l2'}\n",
      "Mean Test Score 0.797930010210712\n",
      "Rank 9\n",
      "parameters {'C': 2, 'penalty': 'l1'}\n",
      "Mean Test Score 0.8120022277917015\n",
      "Rank 2\n",
      "parameters {'C': 2, 'penalty': 'l2'}\n",
      "Mean Test Score 0.806720504966119\n",
      "Rank 6\n",
      "parameters {'C': 5, 'penalty': 'l1'}\n",
      "Mean Test Score 0.8084841733964541\n",
      "Rank 5\n",
      "parameters {'C': 5, 'penalty': 'l2'}\n",
      "Mean Test Score 0.8102292768959436\n",
      "Rank 4\n"
     ]
    }
   ],
   "source": [
    "for i in range(16):\n",
    "    print(\"parameters\", grid_search.cv_results_['params'][i])\n",
    "    print(\"Mean Test Score\", grid_search.cv_results_['mean_test_score'][i])\n",
    "    print(\"Rank\", grid_search.cv_results_['rank_test_score'][i])\n"
   ]
  },
  {
   "cell_type": "code",
   "execution_count": 25,
   "metadata": {},
   "outputs": [],
   "source": [
    "logistic_model = LogisticRegression(solver='liblinear', \n",
    "penalty=grid_search.best_params_['penalty'], C= grid_search.best_params_['C']).fit(x_train, y_train)"
   ]
  },
  {
   "cell_type": "code",
   "execution_count": 26,
   "metadata": {},
   "outputs": [
    {
     "name": "stdout",
     "output_type": "stream",
     "text": [
      "Test data count:  143\n",
      "accuracy count:  107\n",
      "accuracy score:  0.7482517482517482\n",
      "precision score:  0.7818181818181819\n",
      "recall score:  0.6417910447761194\n",
      "\n"
     ]
    }
   ],
   "source": [
    "y_pred = logistic_model.predict(x_test)\n",
    "summarize_classification(y_test, y_pred)"
   ]
  },
  {
   "cell_type": "code",
   "execution_count": null,
   "metadata": {},
   "outputs": [],
   "source": []
  }
 ],
 "metadata": {
  "kernelspec": {
   "display_name": "Python 3.9.13 ('base')",
   "language": "python",
   "name": "python3"
  },
  "language_info": {
   "codemirror_mode": {
    "name": "ipython",
    "version": 3
   },
   "file_extension": ".py",
   "mimetype": "text/x-python",
   "name": "python",
   "nbconvert_exporter": "python",
   "pygments_lexer": "ipython3",
   "version": "3.9.13"
  },
  "orig_nbformat": 4,
  "vscode": {
   "interpreter": {
    "hash": "29b767059ae20851d3b91414137dd566433b7ae2bc58322d2dc7605a0b0cf2f7"
   }
  }
 },
 "nbformat": 4,
 "nbformat_minor": 2
}
